{
 "cells": [
  {
   "cell_type": "markdown",
   "id": "c48791cf",
   "metadata": {},
   "source": [
    "# 🧠 IBM HR Analytics Project\n",
    "**Goal:** Predict and understand employee attrition using visual storytelling, hypothesis testing, and machine learning.\n",
    "Dataset: WA_Fn-UseC_-HR-Employee-Attrition.csv"
   ]
  },
  {
   "cell_type": "code",
   "execution_count": null,
   "id": "f9d355c5",
   "metadata": {},
   "outputs": [],
   "source": [
    "import pandas as pd\n",
    "import seaborn as sns\n",
    "import matplotlib.pyplot as plt\n",
    "from scipy.stats import ttest_ind, chi2_contingency\n",
    "from sklearn.preprocessing import LabelEncoder, StandardScaler\n",
    "from sklearn.model_selection import train_test_split\n",
    "from sklearn.ensemble import RandomForestClassifier\n",
    "from sklearn.metrics import classification_report, confusion_matrix, roc_auc_score\n",
    "\n",
    "df = pd.read_csv(\"WA_Fn-UseC_-HR-Employee-Attrition.csv\")\n",
    "df['Attrition_n'] = df['Attrition'].map({'Yes': 1, 'No': 0})\n",
    "sns.set(style=\"whitegrid\")\n"
   ]
  },
  {
   "cell_type": "markdown",
   "id": "afc43ca6",
   "metadata": {},
   "source": [
    "### 📊 Attrition Count"
   ]
  },
  {
   "cell_type": "code",
   "execution_count": null,
   "id": "923fa9f5",
   "metadata": {},
   "outputs": [],
   "source": [
    "sns.countplot(data=df, x='Attrition', palette='pastel'); plt.title('Attrition Count'); plt.show()"
   ]
  },
  {
   "cell_type": "markdown",
   "id": "dc8ad6bd",
   "metadata": {},
   "source": [
    "### 📊 Attrition by Gender"
   ]
  },
  {
   "cell_type": "code",
   "execution_count": null,
   "id": "4ad3804a",
   "metadata": {},
   "outputs": [],
   "source": [
    "sns.countplot(data=df, x='Gender', hue='Attrition', palette='Set2'); plt.title('Attrition by Gender'); plt.show()"
   ]
  },
  {
   "cell_type": "markdown",
   "id": "b4909da2",
   "metadata": {},
   "source": [
    "### 📊 Monthly Income vs Attrition"
   ]
  },
  {
   "cell_type": "code",
   "execution_count": null,
   "id": "cff98ae3",
   "metadata": {},
   "outputs": [],
   "source": [
    "sns.boxplot(data=df, x='Attrition', y='MonthlyIncome', palette='coolwarm'); plt.title('Monthly Income vs Attrition'); plt.show()"
   ]
  },
  {
   "cell_type": "markdown",
   "id": "886f5c6b",
   "metadata": {},
   "source": [
    "### 📊 Attrition by Job Role"
   ]
  },
  {
   "cell_type": "code",
   "execution_count": null,
   "id": "4acf34ca",
   "metadata": {},
   "outputs": [],
   "source": [
    "sns.countplot(data=df, y='JobRole', hue='Attrition', palette='Set3'); plt.title('Attrition by Job Role'); plt.show()"
   ]
  },
  {
   "cell_type": "markdown",
   "id": "11948d36",
   "metadata": {},
   "source": [
    "### 📊 Years at Company KDE by Attrition"
   ]
  },
  {
   "cell_type": "code",
   "execution_count": null,
   "id": "8db6a688",
   "metadata": {},
   "outputs": [],
   "source": [
    "sns.kdeplot(data=df, x='YearsAtCompany', hue='Attrition_n', fill=True, palette='crest'); plt.title('Years at Company KDE'); plt.show()"
   ]
  },
  {
   "cell_type": "markdown",
   "id": "83df4318",
   "metadata": {},
   "source": [
    "### 📊 Correlation Heatmap"
   ]
  },
  {
   "cell_type": "code",
   "execution_count": null,
   "id": "721c0f5b",
   "metadata": {},
   "outputs": [],
   "source": [
    "sns.heatmap(df.select_dtypes(include='number').corr(), annot=True, fmt='.2f', cmap='coolwarm'); plt.title('Correlation Heatmap'); plt.show()"
   ]
  },
  {
   "cell_type": "markdown",
   "id": "397c58a9",
   "metadata": {},
   "source": [
    "### 🧪 Hypothesis Testing"
   ]
  },
  {
   "cell_type": "code",
   "execution_count": null,
   "id": "97158504",
   "metadata": {},
   "outputs": [],
   "source": [
    "# T-test: MonthlyIncome\n",
    "left = df[df['Attrition'] == 'Yes']['MonthlyIncome']\n",
    "stayed = df[df['Attrition'] == 'No']['MonthlyIncome']\n",
    "t_stat, p_val = ttest_ind(left, stayed, equal_var=False)\n",
    "print(f\"T-test: MonthlyIncome\\nT-statistic = {t_stat:.2f}, p-value = {p_val:.4f}\")\n",
    "print(\"→ Statistically significant difference.\" if p_val < 0.05 else \"→ No significant difference.\")\n",
    "\n",
    "# Chi-square: OverTime vs Attrition\n",
    "contingency_table = pd.crosstab(df['OverTime'], df['Attrition'])\n",
    "chi2, p, _, _ = chi2_contingency(contingency_table)\n",
    "print(f\"Chi-square test: OverTime vs Attrition\\nChi2 = {chi2:.2f}, p-value = {p:.4f}\")\n",
    "print(\"→ Significant association.\" if p < 0.05 else \"→ No significant association.\")\n"
   ]
  },
  {
   "cell_type": "markdown",
   "id": "2004ee20",
   "metadata": {},
   "source": [
    "### 🤖 Machine Learning Model - Random Forest"
   ]
  },
  {
   "cell_type": "code",
   "execution_count": null,
   "id": "2f6cb60f",
   "metadata": {},
   "outputs": [],
   "source": [
    "# Encode categorical variables\n",
    "df_enc = df.copy()\n",
    "le = LabelEncoder()\n",
    "for col in df_enc.select_dtypes(include='object').columns:\n",
    "    df_enc[col] = le.fit_transform(df_enc[col])\n",
    "\n",
    "X = df_enc.drop(['Attrition', 'Attrition_n', 'EmployeeNumber', 'Over18', 'StandardHours', 'EmployeeCount'], axis=1)\n",
    "y = df_enc['Attrition_n']\n",
    "\n",
    "# Scale and split\n",
    "scaler = StandardScaler()\n",
    "X_scaled = scaler.fit_transform(X)\n",
    "X_train, X_test, y_train, y_test = train_test_split(X_scaled, y, test_size=0.2, random_state=42)\n",
    "\n",
    "# Model\n",
    "model = RandomForestClassifier(random_state=42)\n",
    "model.fit(X_train, y_train)\n",
    "y_pred = model.predict(X_test)\n",
    "\n",
    "# Evaluation\n",
    "print(\"Classification Report:\\n\", classification_report(y_test, y_pred))\n",
    "print(\"Confusion Matrix:\\n\", confusion_matrix(y_test, y_pred))\n",
    "print(\"ROC-AUC Score:\", roc_auc_score(y_test, y_pred))\n"
   ]
  },
  {
   "cell_type": "markdown",
   "id": "206f12f9",
   "metadata": {},
   "source": [
    "### 📤 Export for Power BI"
   ]
  },
  {
   "cell_type": "code",
   "execution_count": null,
   "id": "d9ceed62",
   "metadata": {},
   "outputs": [],
   "source": [
    "# Export processed data\n",
    "processed_df = pd.DataFrame(X_scaled, columns=X.columns)\n",
    "processed_df['Attrition'] = y.values\n",
    "processed_df.to_csv(\"processed_hr_attrition.csv\", index=False)\n",
    "print(\"✔️ Exported: processed_hr_attrition.csv\")\n"
   ]
  },
  {
   "cell_type": "markdown",
   "id": "934acddb",
   "metadata": {},
   "source": [
    "### 📌 Key Insights & Summary\n",
    "- OverTime and Attrition have a strong relationship (Chi-square significant).\n",
    "- Employees who left had significantly lower MonthlyIncome (T-test significant).\n",
    "- Most attrition occurs in early years (0–3 YearsAtCompany).\n",
    "- Random Forest shows strong classification power for predicting attrition.\n",
    "- Data exported for Power BI for advanced dashboard visualization."
   ]
  }
 ],
 "metadata": {},
 "nbformat": 4,
 "nbformat_minor": 5
}